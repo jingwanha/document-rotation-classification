{
 "cells": [
  {
   "cell_type": "code",
   "execution_count": null,
   "metadata": {
    "tags": []
   },
   "outputs": [],
   "source": [
    "# import numpy as np\n",
    "import cv2\n",
    "\n",
    "from glob import glob\n",
    "import matplotlib.pyplot as plts\n",
    "from tqdm import tqdm"
   ]
  },
  {
   "cell_type": "code",
   "execution_count": null,
   "metadata": {},
   "outputs": [],
   "source": [
    "# 데이터 생성"
   ]
  },
  {
   "cell_type": "code",
   "execution_count": null,
   "metadata": {},
   "outputs": [],
   "source": [
    "data_info = {\n",
    "    0: 'w_0_0',\n",
    "    1: 'w_1_90',\n",
    "    2: 'w_2_180',\n",
    "    3: 'w_3_270',\n",
    "    4: 'h_0_0',\n",
    "    5: 'h_1_90',\n",
    "    6: 'h_2_180',\n",
    "    7: 'h_3_270',\n",
    "}"
   ]
  },
  {
   "cell_type": "code",
   "execution_count": null,
   "metadata": {},
   "outputs": [],
   "source": [
    "counts = 0\n",
    "for img_path in tqdm(images):\n",
    "    img = cv2.imread(img_path)\n",
    "    \n",
    "    try: h,w, _ = img.shape\n",
    "    except: \n",
    "        print(img_path)\n",
    "        continue\n",
    "    \n",
    "    if h > w : continue\n",
    "        \n",
    "    write_img = img.copy()\n",
    "        \n",
    "    ratio = w/h\n",
    "    move_x = int((h/ratio)//2)\n",
    "    \n",
    "    direction, class_id, rot_angle = data_info[counts%8].split('_')\n",
    "    \n",
    "    if direction == 'h':\n",
    "        write_img = write_img[:,\n",
    "                              w//2 - move_x :w//2 + move_x,\n",
    "                              :]\n",
    "        \n",
    "    # rotation\n",
    "    write_h, write_w = write_img.shape[:2]\n",
    "    cx,cy = write_w/2, write_h/2\n",
    "    \n",
    "    M = cv2.getRotationMatrix2D((cx, cy), float(rot_angle), 1.0)\n",
    "    write_img = cv2.warpAffine(write_img, M, (write_w, write_h))\n",
    "    \n",
    "    # write image\n",
    "    cv2.imwrite('./data/'+class_id+'/'+img_path.split('/')[-1],write_img)\n",
    "    \n",
    "    counts+=1"
   ]
  },
  {
   "cell_type": "code",
   "execution_count": null,
   "metadata": {},
   "outputs": [],
   "source": []
  }
 ],
 "metadata": {
  "kernelspec": {
   "display_name": "dl_env",
   "language": "python",
   "name": "dl_tutorials"
  },
  "kubeflow_notebook": {
   "autosnapshot": false,
   "docker_image": "haiqv/anaconda3-tensorflow-2.2.0-notebook-gpu:1.0.0",
   "experiment": {
    "id": "",
    "name": ""
   },
   "experiment_name": "",
   "katib_metadata": {
    "algorithm": {
     "algorithmName": "grid"
    },
    "maxFailedTrialCount": 3,
    "maxTrialCount": 12,
    "objective": {
     "objectiveMetricName": "",
     "type": "minimize"
    },
    "parallelTrialCount": 3,
    "parameters": []
   },
   "katib_run": false,
   "pipeline_description": "",
   "pipeline_name": "",
   "snapshot_volumes": false,
   "steps_defaults": [],
   "volumes": []
  },
  "language_info": {
   "codemirror_mode": {
    "name": "ipython",
    "version": 3
   },
   "file_extension": ".py",
   "mimetype": "text/x-python",
   "name": "python",
   "nbconvert_exporter": "python",
   "pygments_lexer": "ipython3",
   "version": "3.7.9"
  }
 },
 "nbformat": 4,
 "nbformat_minor": 4
}
