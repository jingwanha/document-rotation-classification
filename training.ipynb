{
 "cells": [
  {
   "cell_type": "code",
   "execution_count": null,
   "metadata": {},
   "outputs": [],
   "source": [
    "import os \n",
    "os.environ[\"CUDA_DEVICE_ORDER\"]=\"PCI_BUS_ID\"\n",
    "os.environ['CUDA_VISIBLE_DEVICES']= '0'\n",
    "\n",
    "import numpy as np\n",
    "import cv2\n",
    "\n",
    "import pandas as pd\n",
    "from glob import glob"
   ]
  },
  {
   "cell_type": "code",
   "execution_count": null,
   "metadata": {},
   "outputs": [],
   "source": [
    "from tensorflow import keras\n",
    "from tensorflow.keras.applications.densenet import DenseNet201\n",
    "\n",
    "from tensorflow.keras.preprocessing import image\n",
    "\n",
    "from tensorflow.keras.callbacks import EarlyStopping, ModelCheckpoint, TensorBoard, ReduceLROnPlateau\n",
    "\n",
    "from tensorflow.keras.layers import Input, Dense, Dropout, BatchNormalization, Flatten, GlobalAveragePooling2D, AveragePooling2D\n",
    "from tensorflow.keras.models import Sequential, Model\n",
    "from tensorflow.keras.optimizers import Adam\n",
    "\n",
    "from tensorflow.keras.models import model_from_json"
   ]
  },
  {
   "cell_type": "markdown",
   "metadata": {
    "tags": []
   },
   "source": [
    "# "
   ]
  },
  {
   "cell_type": "markdown",
   "metadata": {
    "tags": []
   },
   "source": [
    "## DATA LOAD"
   ]
  },
  {
   "cell_type": "code",
   "execution_count": null,
   "metadata": {},
   "outputs": [],
   "source": [
    "# 이미지 저장 경로\n",
    "img_list = glob('./data/*/*.*')\n",
    "data_df=pd.DataFrame({\"image\": img_list,\n",
    "                      \"label\": list(map(lambda x : x.split(\"/\")[-2], img_list)),\n",
    "                      \"is_train\": True\n",
    "                      })"
   ]
  },
  {
   "cell_type": "code",
   "execution_count": null,
   "metadata": {},
   "outputs": [],
   "source": [
    "# train/test split\n",
    "\n",
    "labels = data_df['label'].unique()\n",
    "n_split = 0.1\n",
    "\n",
    "for label in labels:\n",
    "    n_data = len(data_df[data_df['label']==label])\n",
    "    data_df.loc[data_df[data_df['label']==label].sample(int(n_data*n_split)).index,'is_train'] = False\n",
    "    \n",
    "    print(label, n_data, int(n_data*n_split))\n",
    "    \n",
    "# train / test dataset split\n",
    "train_df = data_df.loc[data_df['is_train']==True].drop(['is_train'],axis=1).reset_index(drop=True)\n",
    "test_df = data_df.loc[data_df['is_train']==False].drop(['is_train'],axis=1).reset_index(drop=True)\n",
    "data_df.to_csv('./dataset.csv')"
   ]
  },
  {
   "cell_type": "code",
   "execution_count": null,
   "metadata": {},
   "outputs": [],
   "source": [
    "from generator_v1 import BalencedDataGenerator\n",
    "\n",
    "data_config ={\n",
    "    'batch_size' : 32,\n",
    "    'num_class' : 4,\n",
    "    'img_h' : 224,\n",
    "    'img_w' : 224\n",
    "}\n",
    "\n",
    "train_generator=BalencedDataGenerator(data=train_df, config=data_config, is_train=True)\n",
    "valid_generator=BalencedDataGenerator(data=test_df, config=data_config, is_train=False)"
   ]
  },
  {
   "cell_type": "markdown",
   "metadata": {
    "tags": []
   },
   "source": [
    "# "
   ]
  },
  {
   "cell_type": "markdown",
   "metadata": {
    "tags": []
   },
   "source": [
    "## MODEL"
   ]
  },
  {
   "cell_type": "code",
   "execution_count": null,
   "metadata": {},
   "outputs": [],
   "source": [
    "# DenseNet Model\n",
    "base_model = DenseNet201(include_top=False,weights='imagenet',pooling='avg',input_shape=(224,224,3))"
   ]
  },
  {
   "cell_type": "code",
   "execution_count": null,
   "metadata": {},
   "outputs": [],
   "source": [
    "# Model output 수정\n",
    "base_model.trainable = True\n",
    "\n",
    "model=Sequential()\n",
    "model.add(base_model)\n",
    "\n",
    "model.add(Dropout(rate=0.5))\n",
    "model.add(Dense(4, activation='softmax', name=\"output\"))\n",
    "\n",
    "# Optimizer\n",
    "adam=Adam()\n",
    "\n",
    "        \n",
    " # Compile\n",
    "model.compile(optimizer=adam,\n",
    "              loss='sparse_categorical_crossentropy',\n",
    "              metrics=['accuracy'])\n",
    "\n",
    "# Summary\n",
    "model.summary()"
   ]
  },
  {
   "cell_type": "code",
   "execution_count": null,
   "metadata": {},
   "outputs": [],
   "source": [
    "# Set Callbacks\n",
    "ckpt=ModelCheckpoint('./logs/epoch-{epoch:02d}-{val_accuracy:.5f}.h5', \n",
    "                     monitor='val_accuracy', verbose=1, save_best_only=True)\n",
    "\n",
    "reducer1=ReduceLROnPlateau(monitor='val_loss', factor=0.9, patience=3, verbose=1,\n",
    "                          mode='auto', min_delta=0.0001, cooldown=0, min_lr=0)\n",
    "\n",
    "reducer2=ReduceLROnPlateau(monitor='val_accuracy', factor=0.5, patience=5, verbose=1,\n",
    "                          mode='auto', min_delta=0.0001, cooldown=0, min_lr=0)\n",
    "\n",
    "stopper=EarlyStopping(monitor='val_accuracy', min_delta=0, patience=10, verbose=1,\n",
    "                      mode='max', baseline=None, restore_best_weights=True)\n",
    "\n",
    "callbacks_list=[ckpt, stopper, reducer1, reducer2]"
   ]
  },
  {
   "cell_type": "code",
   "execution_count": null,
   "metadata": {},
   "outputs": [],
   "source": [
    "# Train\n",
    "train_count=train_df.shape[0]\n",
    "one_epoch=int(train_count/data_config['batch_size'])\n",
    "num_epochs=300\n",
    "\n",
    "\n",
    "history=model.fit(train_generator,\n",
    "                  steps_per_epoch=one_epoch,\n",
    "                  epochs=num_epochs,\n",
    "                  callbacks=callbacks_list,\n",
    "                  initial_epoch=0,\n",
    "                  verbose=1,\n",
    "                  validation_data=valid_generator,\n",
    "                  validation_steps=test_df.shape[0]//data_config['batch_size'])\n",
    "\n",
    "model.save(os.path.join('./logs', 'train_best.h5'), include_optimizer = False)"
   ]
  },
  {
   "cell_type": "code",
   "execution_count": null,
   "metadata": {},
   "outputs": [],
   "source": []
  }
 ],
 "metadata": {
  "kernelspec": {
   "display_name": "dl_env",
   "language": "python",
   "name": "dl_tutorials"
  },
  "kubeflow_notebook": {
   "autosnapshot": false,
   "docker_image": "haiqv/anaconda3-tensorflow-2.2.0-notebook-gpu:1.0.0",
   "experiment": {
    "id": "",
    "name": ""
   },
   "experiment_name": "",
   "katib_metadata": {
    "algorithm": {
     "algorithmName": "grid"
    },
    "maxFailedTrialCount": 3,
    "maxTrialCount": 12,
    "objective": {
     "objectiveMetricName": "",
     "type": "minimize"
    },
    "parallelTrialCount": 3,
    "parameters": []
   },
   "katib_run": false,
   "pipeline_description": "",
   "pipeline_name": "",
   "snapshot_volumes": false,
   "steps_defaults": [],
   "volumes": []
  },
  "language_info": {
   "codemirror_mode": {
    "name": "ipython",
    "version": 3
   },
   "file_extension": ".py",
   "mimetype": "text/x-python",
   "name": "python",
   "nbconvert_exporter": "python",
   "pygments_lexer": "ipython3",
   "version": "3.7.9"
  }
 },
 "nbformat": 4,
 "nbformat_minor": 4
}
