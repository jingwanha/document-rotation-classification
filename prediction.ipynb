{
 "cells": [
  {
   "cell_type": "code",
   "execution_count": null,
   "metadata": {},
   "outputs": [],
   "source": [
    "import os \n",
    "os.environ[\"CUDA_DEVICE_ORDER\"]=\"PCI_BUS_ID\"\n",
    "os.environ['CUDA_VISIBLE_DEVICES']= '3'\n",
    "\n",
    "from tensorflow import keras\n",
    "from tensorflow.keras.models import load_model\n",
    "from tensorflow.keras.applications.densenet import preprocess_input \n",
    "from tensorflow.keras.preprocessing.image import ImageDataGenerator, load_img, img_to_array\n",
    "\n",
    "from generator_v1 import BalencedDataGenerator, remove_padding, crop_or_pad\n",
    "from sklearn.metrics import confusion_matrix, ConfusionMatrixDisplay, classification_report\n",
    "\n",
    "import pandas as pd\n",
    "import numpy as np\n",
    "import matplotlib.pyplot as plt\n",
    "import cv2\n",
    "from tqdm import tqdm"
   ]
  },
  {
   "cell_type": "markdown",
   "metadata": {
    "tags": []
   },
   "source": [
    "# "
   ]
  },
  {
   "cell_type": "markdown",
   "metadata": {
    "tags": []
   },
   "source": [
    "## Model & Data Load"
   ]
  },
  {
   "cell_type": "code",
   "execution_count": null,
   "metadata": {},
   "outputs": [],
   "source": [
    "model = load_model('./logs/epoch-18-0.99317.h5')\n",
    "model.summary()"
   ]
  },
  {
   "cell_type": "code",
   "execution_count": null,
   "metadata": {},
   "outputs": [],
   "source": [
    "data_df = pd.read_csv('./dataset.csv',index_col=0)\n",
    "test_df = data_df.loc[data_df['is_train']==False].drop(['is_train'],axis=1).reset_index(drop=True)"
   ]
  },
  {
   "cell_type": "markdown",
   "metadata": {
    "tags": []
   },
   "source": [
    "# "
   ]
  },
  {
   "cell_type": "markdown",
   "metadata": {
    "tags": []
   },
   "source": [
    "## Model Evaluation - Confusion Matrix"
   ]
  },
  {
   "cell_type": "code",
   "execution_count": null,
   "metadata": {},
   "outputs": [],
   "source": [
    "import math"
   ]
  },
  {
   "cell_type": "code",
   "execution_count": null,
   "metadata": {},
   "outputs": [],
   "source": [
    "# Test Data Load\n",
    "\n",
    "data_config ={\n",
    "    'batch_size' : 32,\n",
    "    'num_class' : 4,\n",
    "    'img_h' : 224,\n",
    "    'img_w' : 224\n",
    "}"
   ]
  },
  {
   "cell_type": "code",
   "execution_count": null,
   "metadata": {},
   "outputs": [],
   "source": [
    "n_datas = test_df.shape[0]\n",
    "n_batch_epoch = int(n_datas/data_config['batch_size'])\n",
    "\n",
    "y_pred = []\n",
    "y_label = []\n",
    "\n",
    "for i in tqdm(range(n_batch_epoch)):\n",
    "    image_batch = np.zeros((data_config['batch_size'],224,224,3),np.uint8)    \n",
    "    \n",
    "    for i,(img_path,label) in enumerate(test_df[[\"image\",\"label\"]][i*data_config['batch_size']:(i+1)*data_config['batch_size']].values):\n",
    "        image = cv2.imread(img_path)\n",
    "\n",
    "        image = cv2.cvtColor(image, cv2.COLOR_BGR2RGB)\n",
    "        image = remove_padding(image)\n",
    "        image = crop_or_pad(image, [224,224])\n",
    "\n",
    "        y_label.append(label)\n",
    "\n",
    "        image_batch[i,:,:] = image\n",
    "        \n",
    "    result = model.predict(image_batch)\n",
    "    y_pred += list(np.argmax(result, axis=-1))"
   ]
  },
  {
   "cell_type": "code",
   "execution_count": null,
   "metadata": {},
   "outputs": [],
   "source": [
    "# draw confusion matrix\n",
    "class_names =['0', '90', '180', '270']\n",
    "\n",
    "\n",
    "cm = confusion_matrix(y_label, y_pred)\n",
    "cm_draw = ConfusionMatrixDisplay(cm, display_labels=class_names)\n",
    "\n",
    "cm_draw.plot(cmap=plt.cm.Blues)\n",
    "\n",
    "print(classification_report(y_label, y_pred, target_names=class_names))\n",
    "plt.savefig('cm.png',dpi=300)"
   ]
  },
  {
   "cell_type": "markdown",
   "metadata": {
    "tags": []
   },
   "source": [
    "# "
   ]
  },
  {
   "cell_type": "markdown",
   "metadata": {
    "tags": []
   },
   "source": [
    "## Model Prediction"
   ]
  },
  {
   "cell_type": "code",
   "execution_count": null,
   "metadata": {},
   "outputs": [],
   "source": [
    "idx = 3000\n",
    "\n",
    "image = cv2.imread(test_df[\"image\"][idx])\n",
    "image = cv2.cvtColor(image, cv2.COLOR_BGR2RGB)\n",
    "\n",
    "label = test_df[\"label\"][idx]\n",
    "\n",
    "image = remove_padding(image)\n",
    "image = crop_or_pad(image, [224,224])"
   ]
  },
  {
   "cell_type": "code",
   "execution_count": null,
   "metadata": {},
   "outputs": [],
   "source": [
    "plt.figure()\n",
    "plt.imshow(image, cmap=None)\n",
    "plt.show()"
   ]
  },
  {
   "cell_type": "code",
   "execution_count": null,
   "metadata": {},
   "outputs": [],
   "source": [
    "image = image.reshape(1,224,224,3)\n",
    "res = model.predict(image)\n",
    "print(np.argmax(res), label)"
   ]
  },
  {
   "cell_type": "code",
   "execution_count": null,
   "metadata": {},
   "outputs": [],
   "source": []
  }
 ],
 "metadata": {
  "kernelspec": {
   "display_name": "dl_env",
   "language": "python",
   "name": "dl_tutorials"
  },
  "kubeflow_notebook": {
   "autosnapshot": false,
   "docker_image": "haiqv/anaconda3-tensorflow-2.2.0-notebook-gpu:1.0.0",
   "experiment": {
    "id": "",
    "name": ""
   },
   "experiment_name": "",
   "katib_metadata": {
    "algorithm": {
     "algorithmName": "grid"
    },
    "maxFailedTrialCount": 3,
    "maxTrialCount": 12,
    "objective": {
     "objectiveMetricName": "",
     "type": "minimize"
    },
    "parallelTrialCount": 3,
    "parameters": []
   },
   "katib_run": false,
   "pipeline_description": "",
   "pipeline_name": "",
   "snapshot_volumes": false,
   "steps_defaults": [],
   "volumes": []
  },
  "language_info": {
   "codemirror_mode": {
    "name": "ipython",
    "version": 3
   },
   "file_extension": ".py",
   "mimetype": "text/x-python",
   "name": "python",
   "nbconvert_exporter": "python",
   "pygments_lexer": "ipython3",
   "version": "3.7.9"
  }
 },
 "nbformat": 4,
 "nbformat_minor": 4
}
